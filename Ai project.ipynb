{
 "cells": [
  {
   "cell_type": "code",
   "execution_count": 1,
   "metadata": {},
   "outputs": [],
   "source": [
    "import cv2\n",
    "import glob \n",
    "import os\n",
    "from sklearn.decomposition import PCA \n",
    "from sklearn.preprocessing import StandardScaler \n",
    "from sklearn.ensemble import RandomForestClassifier \n",
    "from sklearn.model_selection import train_test_split \n",
    "from sklearn.metrics import accuracy_score \n",
    "import numpy as np"
   ]
  },
  {
   "cell_type": "code",
   "execution_count": 2,
   "metadata": {},
   "outputs": [
    {
     "name": "stdout",
     "output_type": "stream",
     "text": [
      "Accuracy with RandomForest: 98.935243\n"
     ]
    }
   ],
   "source": [
    "fruit_images = [] \n",
    "labels = [] \n",
    "for fruit_dir_path in glob.glob(\"C:/Users/Mr.Magdy/Desktop/Aii project/fruits-360/Training/*\"): \n",
    "    fruit_label = fruit_dir_path.split(\"/\")[6] \n",
    "    for image_path in glob.glob(os.path.join(fruit_dir_path, \"*.jpg\")): \n",
    "        image = cv2.imread(image_path, cv2.IMREAD_COLOR)  \n",
    "        image = cv2.resize(image, (30, 30)) \n",
    "        image = cv2.cvtColor(image, cv2.COLOR_RGB2BGR) \n",
    "        fruit_images.append(image) \n",
    "        labels.append(fruit_label) \n",
    "fruit_images = np.array(fruit_images) \n",
    "labels = np.array(labels) \n",
    "label_to_id_dict = {v:i for i,v in enumerate(np.unique(labels))} \n",
    "id_to_label_dict = {v: k for k, v in label_to_id_dict.items()}\n",
    "label_ids = np.array([label_to_id_dict[x] for x in labels])\n",
    "scaler = StandardScaler()\n",
    "images_scaled = scaler.fit_transform([i.flatten() for i in fruit_images])\n",
    "pca = PCA(n_components=50)\n",
    "pca_result = pca.fit_transform(images_scaled)\n",
    "X_train, X_test, y_train, y_test = train_test_split(pca_result, label_ids, test_size=0.25, random_state=42)\n",
    "forest = RandomForestClassifier(n_estimators=10)\n",
    "forest = forest.fit(X_train, y_train)\n",
    "test_predictions = forest.predict(X_test)\n",
    "precision = accuracy_score(test_predictions, y_test) * 100\n",
    "print(\"Accuracy with RandomForest: {0:.6f}\".format(precision))"
   ]
  },
  {
   "cell_type": "code",
   "execution_count": null,
   "metadata": {},
   "outputs": [],
   "source": []
  }
 ],
 "metadata": {
  "kernelspec": {
   "display_name": "Python 3",
   "language": "python",
   "name": "python3"
  },
  "language_info": {
   "codemirror_mode": {
    "name": "ipython",
    "version": 3
   },
   "file_extension": ".py",
   "mimetype": "text/x-python",
   "name": "python",
   "nbconvert_exporter": "python",
   "pygments_lexer": "ipython3",
   "version": "3.8.5"
  }
 },
 "nbformat": 4,
 "nbformat_minor": 4
}
